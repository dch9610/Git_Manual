{
 "cells": [
  {
   "cell_type": "markdown",
   "metadata": {},
   "source": [
    "## Git \n",
    "\n",
    "## 기본 리눅스 명령어\n",
    "#pwd : 파일경로 확인\n",
    "#cd 이동할위치(../.../.../) : 이동할위치 파일로 이동\n",
    "#mkdir 파일명 : 파일 생성\n",
    "#ls : 디렉토리 목록 확인\n",
    "#ls -al : 해당 폴더에 있는 파일과 디렉토리를 보여줌\n",
    "#clear: 터미널\n",
    "\n",
    "\n",
    "\n",
    "## Git 명령어\n",
    "#git config --global user.name : 버전 유저이름 생성 (작업자 표시)\n",
    "#git config --global user.email : 버전 유저이메일 생성\n",
    "\n",
    "#git init : git의 저장소를 생성 (현재 디렉토리를 버전관리한다.)\n",
    "#git rm -rf 파일명 또는 폴더명 : 파일 또는 폴더 다 삭제\n",
    "#cat 파일명: 파일 내용보기\n",
    "#git status : 파일의 버전관리가 되고 있는지 확인\n",
    "#cp 파일명1 파일명2 : 파일명1을 복사해 파일2로 생성\n",
    "#git add 파일명 : 파일이 버전관리가 되도록 함\n",
    "#git commit : 해당 파일에 주석이 달리며 vim모드로 들어감\n",
    "#commit 아이디를 복사후: git log 복사한 아이디\n",
    "#git diff 커밋아이디1 .. 커밋아이디2 : 두 소스의 차이를 보여줌\n",
    "#vim 파일명 : vim이라는 프로그램으로 파일을 생성\n",
    "\n",
    "#git log : 버전정보확인\n",
    "#git log -p : 소스 간의 차이를 볼수 있음\n",
    "#+++ 위에 내용\n",
    "#--- 밑에 내용\n",
    "\n",
    "#stage area : 커밋 대기 중인 파일가는 곳\n",
    "#stage - repository : 커밋이된 결과가 저장되는 곳 \n",
    "\n",
    "#-- vim 모드 : \n",
    "#i: insert , r: 재입력\n",
    "#:을 누른후 wq: 저장후 나가기\n",
    "\n",
    "\n",
    "## 버전 (작업이 완결된 상태)"
   ]
  },
  {
   "cell_type": "markdown",
   "metadata": {},
   "source": [
    "## 실습 (수정후 파일 저장)\n",
    "\n",
    "#vim 파일명\n",
    "#내용변경 후 저장 (vim 모드)\n",
    "#git status로 현재 상태확인\n",
    "#git add 파일명으로 수정된 파일을 다시 버전관리로 add시킴\n",
    "#git status로 다시 확인\n",
    "#git commit 후 번호수정하면 \n",
    "#git log에 수정된 숫자가 표시"
   ]
  },
  {
   "cell_type": "markdown",
   "metadata": {},
   "source": [
    "# ================================================================================"
   ]
  },
  {
   "cell_type": "markdown",
   "metadata": {},
   "source": [
    "## 커밋 (commit)\n",
    "- 게임의 세이브에 해당하는 행동을 git에서는 commit이라고 합니다. 언제든지 커밋한 시점으로 되돌아 갈수 있음\n",
    " * 저장을 원하는 파일들을 묶어서 커밋 명령을 수행하면 된다."
   ]
  },
  {
   "cell_type": "markdown",
   "metadata": {},
   "source": [
    "## 스테이지에 올린다 (add)\n",
    "- 커밋하기 전에 저장을 원하는 파일들을 묶는 일을 하는 과정\n",
    "- 스테이지에 파일을 올린다는 의미"
   ]
  },
  {
   "cell_type": "markdown",
   "metadata": {},
   "source": [
    "## github에 업로드 (push)\n",
    "- 커밋을 하면 이제 현재 작업 내용의 세이브 데이터가 내 컴퓨터에 저장된다.\n",
    "- github에 업로드 하는걸 git에서 \"push\"라고 합니다."
   ]
  },
  {
   "cell_type": "markdown",
   "metadata": {},
   "source": [
    "## 커밋 주의사항\n",
    "- 반드시 한 번에 하나의 논리적 작업만을 커밋한다.\n",
    "- 커밋 메시지는 상세하게 적어야 한다.\n",
    "\n",
    "## 커밋 메시지 작성법\n",
    "- 첫 줄에는 간단하지만 명확하게 내용을 쓴다.\n",
    "- 한 줄 비우고 자세한 내용을 적는다."
   ]
  },
  {
   "cell_type": "markdown",
   "metadata": {},
   "source": [
    "## 되돌리기 (Check Out)\n",
    "- 마지막 커밋으로 되돌아 갈 수 있다.\n",
    "- 소스트리에서는 코드뭉치 버리기 기능을 사용하면 되돌아 갈 수 있다."
   ]
  }
 ],
 "metadata": {
  "kernelspec": {
   "display_name": "Python 3",
   "language": "python",
   "name": "python3"
  },
  "language_info": {
   "codemirror_mode": {
    "name": "ipython",
    "version": 3
   },
   "file_extension": ".py",
   "mimetype": "text/x-python",
   "name": "python",
   "nbconvert_exporter": "python",
   "pygments_lexer": "ipython3",
   "version": "3.7.6"
  }
 },
 "nbformat": 4,
 "nbformat_minor": 4
}
